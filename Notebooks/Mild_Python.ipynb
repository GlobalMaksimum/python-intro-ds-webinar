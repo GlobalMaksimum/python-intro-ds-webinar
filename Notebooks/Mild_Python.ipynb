{
 "cells": [
  {
   "cell_type": "code",
   "execution_count": null,
   "metadata": {
    "colab": {},
    "colab_type": "code",
    "id": "Eb_ZluuvQnbD"
   },
   "outputs": [],
   "source": [
    "import numpy as np\n",
    "import pandas as pd\n",
    "import matplotlib.pyplot as plt\n",
    "import altair as alt\n",
    "import seaborn as sns\n",
    "%matplotlib inline\n"
   ]
  },
  {
   "cell_type": "code",
   "execution_count": null,
   "metadata": {
    "colab": {
     "base_uri": "https://localhost:8080/",
     "height": 1000
    },
    "colab_type": "code",
    "id": "4i3p_-skyWcQ",
    "outputId": "eb100f30-fb7c-4bbe-8a03-a8c1d40ed262"
   },
   "outputs": [],
   "source": [
    "! pip install https://github.com/pandas-profiling/pandas-profiling/archive/master.zip"
   ]
  },
  {
   "cell_type": "code",
   "execution_count": null,
   "metadata": {
    "colab": {},
    "colab_type": "code",
    "id": "S2cf4ySCxi27"
   },
   "outputs": [],
   "source": [
    "from pandas_profiling import ProfileReport"
   ]
  },
  {
   "cell_type": "markdown",
   "metadata": {
    "colab_type": "text",
    "id": "HLB2y8FbUhG2"
   },
   "source": [
    "### Mild Python for Data Science\n",
    "  \n",
    "  - Simplest Data **Structures** "
   ]
  },
  {
   "cell_type": "code",
   "execution_count": null,
   "metadata": {
    "colab": {},
    "colab_type": "code",
    "id": "evloZ2fOU3xo"
   },
   "outputs": [],
   "source": [
    "#variables\n",
    "a = 10\n",
    "b = 3.14\n",
    "c = 'shazam'\n",
    "d = '24'"
   ]
  },
  {
   "cell_type": "code",
   "execution_count": null,
   "metadata": {
    "colab": {
     "base_uri": "https://localhost:8080/",
     "height": 34
    },
    "colab_type": "code",
    "id": "yQvE9vwNQ7J-",
    "outputId": "2c50a88e-f812-4cb4-969b-dcb23487bcc9"
   },
   "outputs": [],
   "source": [
    "print(type(a),type(b),type(c))"
   ]
  },
  {
   "cell_type": "code",
   "execution_count": null,
   "metadata": {
    "colab": {},
    "colab_type": "code",
    "id": "Bt4ErNNyZaWw"
   },
   "outputs": [],
   "source": [
    "a2 = float(a)\n",
    "b2 = int(b)"
   ]
  },
  {
   "cell_type": "code",
   "execution_count": null,
   "metadata": {
    "colab": {
     "base_uri": "https://localhost:8080/",
     "height": 51
    },
    "colab_type": "code",
    "id": "nNia8kzIZr-z",
    "outputId": "9170680b-7dab-45c6-fd78-8901089e3590"
   },
   "outputs": [],
   "source": [
    "print(f'Type of {a2} is {type(a2)}')\n",
    "print(f'Type of {b2} is {type(b2)}')"
   ]
  },
  {
   "cell_type": "code",
   "execution_count": null,
   "metadata": {
    "colab": {},
    "colab_type": "code",
    "id": "wmOx75UNVv32"
   },
   "outputs": [],
   "source": [
    "#lists \n",
    "list1 = [a,b,c]\n",
    "list2 = [a+1,2*a,2.14*b]"
   ]
  },
  {
   "cell_type": "code",
   "execution_count": null,
   "metadata": {
    "colab": {
     "base_uri": "https://localhost:8080/",
     "height": 34
    },
    "colab_type": "code",
    "id": "U5JZP64wV-Iq",
    "outputId": "d0d4aa56-836a-4bdc-b95d-e2e78c942eac"
   },
   "outputs": [],
   "source": [
    "list1 , list2"
   ]
  },
  {
   "cell_type": "code",
   "execution_count": null,
   "metadata": {
    "colab": {
     "base_uri": "https://localhost:8080/",
     "height": 34
    },
    "colab_type": "code",
    "id": "RAcmPezbWBsA",
    "outputId": "2e5bc74a-d9db-4986-c817-d1cb45ed04d5"
   },
   "outputs": [],
   "source": [
    "list1 + list2"
   ]
  },
  {
   "cell_type": "code",
   "execution_count": null,
   "metadata": {
    "colab": {},
    "colab_type": "code",
    "id": "L5PMmouDZPt2"
   },
   "outputs": [],
   "source": [
    "list_of_lists = [list1,list2]"
   ]
  },
  {
   "cell_type": "code",
   "execution_count": null,
   "metadata": {
    "colab": {
     "base_uri": "https://localhost:8080/",
     "height": 34
    },
    "colab_type": "code",
    "id": "QVlaBJhrZVwT",
    "outputId": "5ddd1913-0aa7-480b-b03e-4dd02dc96bd0"
   },
   "outputs": [],
   "source": [
    "list_of_lists"
   ]
  },
  {
   "cell_type": "code",
   "execution_count": null,
   "metadata": {
    "colab": {
     "base_uri": "https://localhost:8080/",
     "height": 34
    },
    "colab_type": "code",
    "id": "IqhtdV4HZXvk",
    "outputId": "9d4497b1-f2e6-4ec2-c905-f949803610aa"
   },
   "outputs": [],
   "source": [
    "type(list_of_lists)"
   ]
  },
  {
   "cell_type": "code",
   "execution_count": null,
   "metadata": {
    "colab": {},
    "colab_type": "code",
    "id": "9dmjxf5QWD1i"
   },
   "outputs": [],
   "source": [
    "#dictionary \n",
    "dict_of_lists = {'list 1':list1, \n",
    " 'list 2': list2}"
   ]
  },
  {
   "cell_type": "code",
   "execution_count": null,
   "metadata": {
    "colab": {},
    "colab_type": "code",
    "id": "Rknh6EDnbEon"
   },
   "outputs": [],
   "source": [
    "d = dict(list_1 = list1,list_2 = list2)"
   ]
  },
  {
   "cell_type": "code",
   "execution_count": null,
   "metadata": {
    "colab": {
     "base_uri": "https://localhost:8080/",
     "height": 34
    },
    "colab_type": "code",
    "id": "QGQpKQo7WYMg",
    "outputId": "9d901e95-78cd-468f-d162-98689922fb3b"
   },
   "outputs": [],
   "source": [
    "d"
   ]
  },
  {
   "cell_type": "code",
   "execution_count": null,
   "metadata": {
    "colab": {
     "base_uri": "https://localhost:8080/",
     "height": 34
    },
    "colab_type": "code",
    "id": "3Ak27V76Wbcq",
    "outputId": "929829d6-79d7-48cc-962b-0047d14af818"
   },
   "outputs": [],
   "source": [
    "dict_of_lists"
   ]
  },
  {
   "cell_type": "code",
   "execution_count": null,
   "metadata": {
    "colab": {
     "base_uri": "https://localhost:8080/",
     "height": 34
    },
    "colab_type": "code",
    "id": "B_snqw0JWdUe",
    "outputId": "4435b758-841e-44f9-81bf-78e5cb56b7b5"
   },
   "outputs": [],
   "source": [
    "dict_of_lists['list 1']"
   ]
  },
  {
   "cell_type": "code",
   "execution_count": null,
   "metadata": {
    "colab": {
     "base_uri": "https://localhost:8080/",
     "height": 34
    },
    "colab_type": "code",
    "id": "SeBjL2hib3ey",
    "outputId": "8a7120e6-364a-4ec6-a909-be3715e51552"
   },
   "outputs": [],
   "source": [
    "dict_of_lists.get('list_3',[])"
   ]
  },
  {
   "cell_type": "code",
   "execution_count": null,
   "metadata": {
    "colab": {
     "base_uri": "https://localhost:8080/",
     "height": 164
    },
    "colab_type": "code",
    "id": "w6v4sVYUb80D",
    "outputId": "6067de71-4355-4ec5-da7c-fc2e935738ec"
   },
   "outputs": [],
   "source": [
    "dict_of_lists['list_3']"
   ]
  },
  {
   "cell_type": "markdown",
   "metadata": {
    "colab_type": "text",
    "id": "1sy-JKZidYtr"
   },
   "source": [
    "### Increase the Size"
   ]
  },
  {
   "cell_type": "code",
   "execution_count": null,
   "metadata": {
    "colab": {
     "base_uri": "https://localhost:8080/",
     "height": 34
    },
    "colab_type": "code",
    "id": "bTLx-UEdWnmv",
    "outputId": "d714abfd-2a27-43a6-c885-acff5cc17ab8"
   },
   "outputs": [],
   "source": [
    "range(10)"
   ]
  },
  {
   "cell_type": "code",
   "execution_count": null,
   "metadata": {
    "colab": {
     "base_uri": "https://localhost:8080/",
     "height": 187
    },
    "colab_type": "code",
    "id": "hbvFtW-7dWat",
    "outputId": "ea21af2d-bbed-4a40-fce2-06fbc23e657e"
   },
   "outputs": [],
   "source": [
    " data = []\n",
    " for i in range(10):\n",
    "   print(i)\n",
    "   data.append(i)"
   ]
  },
  {
   "cell_type": "code",
   "execution_count": null,
   "metadata": {
    "colab": {
     "base_uri": "https://localhost:8080/",
     "height": 34
    },
    "colab_type": "code",
    "id": "8tJ6zozwdlDk",
    "outputId": "493834d8-d6b0-4a6b-8ef7-7c1c58397413"
   },
   "outputs": [],
   "source": [
    "data"
   ]
  },
  {
   "cell_type": "code",
   "execution_count": null,
   "metadata": {
    "colab": {},
    "colab_type": "code",
    "id": "_s2KHLhBdq8j"
   },
   "outputs": [],
   "source": [
    "#List comprehension\n",
    "data1 = [i for i in range(100) if i%2==0]\n",
    "data2 = [i**2 for i in range(4,20)]"
   ]
  },
  {
   "cell_type": "code",
   "execution_count": null,
   "metadata": {
    "colab": {
     "base_uri": "https://localhost:8080/",
     "height": 867
    },
    "colab_type": "code",
    "id": "3IoOvnuUdwkR",
    "outputId": "9179eac7-3a43-45d8-aa4f-f7c4a4852e92"
   },
   "outputs": [],
   "source": [
    "data1"
   ]
  },
  {
   "cell_type": "code",
   "execution_count": null,
   "metadata": {
    "colab": {
     "base_uri": "https://localhost:8080/",
     "height": 34
    },
    "colab_type": "code",
    "id": "_g6pwmeNdxZq",
    "outputId": "26678c7d-b8af-4bc8-8113-b13175eb1405"
   },
   "outputs": [],
   "source": [
    "len(data),len(data2)"
   ]
  },
  {
   "cell_type": "code",
   "execution_count": null,
   "metadata": {
    "colab": {
     "base_uri": "https://localhost:8080/",
     "height": 34
    },
    "colab_type": "code",
    "id": "D0L6ur0Vc69u",
    "outputId": "57e4077e-4fe1-48b8-c622-8f962b9b96fe"
   },
   "outputs": [],
   "source": [
    "c"
   ]
  },
  {
   "cell_type": "code",
   "execution_count": null,
   "metadata": {
    "colab": {
     "base_uri": "https://localhost:8080/",
     "height": 34
    },
    "colab_type": "code",
    "id": "TwLw8txQc2wh",
    "outputId": "0e7daa48-f512-4eb2-e327-fa6f45464331"
   },
   "outputs": [],
   "source": [
    "len(c)"
   ]
  },
  {
   "cell_type": "code",
   "execution_count": null,
   "metadata": {
    "colab": {
     "base_uri": "https://localhost:8080/",
     "height": 340
    },
    "colab_type": "code",
    "id": "ziR8qmzVd0ES",
    "outputId": "bc4990b1-1cd0-4e10-ec85-7b1098d2f269"
   },
   "outputs": [],
   "source": [
    "data2"
   ]
  },
  {
   "cell_type": "markdown",
   "metadata": {
    "colab_type": "text",
    "id": "Yr_u-73RgHnB"
   },
   "source": [
    "### Increase Complexity"
   ]
  },
  {
   "cell_type": "code",
   "execution_count": null,
   "metadata": {
    "colab": {},
    "colab_type": "code",
    "id": "g1mlPSoIgHMM"
   },
   "outputs": [],
   "source": [
    "arr = np.array(list1)"
   ]
  },
  {
   "cell_type": "code",
   "execution_count": null,
   "metadata": {
    "colab": {
     "base_uri": "https://localhost:8080/",
     "height": 34
    },
    "colab_type": "code",
    "id": "hbMbeh_7d33L",
    "outputId": "36aa9279-ebde-4f38-ef60-e833f622b9e1"
   },
   "outputs": [],
   "source": [
    "arr"
   ]
  },
  {
   "cell_type": "code",
   "execution_count": null,
   "metadata": {
    "colab": {
     "base_uri": "https://localhost:8080/",
     "height": 34
    },
    "colab_type": "code",
    "id": "wj45k-thdXSg",
    "outputId": "ff2eeef4-a6b0-4b46-f949-c0ed233eb039"
   },
   "outputs": [],
   "source": [
    "type(arr[0])"
   ]
  },
  {
   "cell_type": "code",
   "execution_count": null,
   "metadata": {
    "colab": {},
    "colab_type": "code",
    "id": "3XTKZu2AdoE9"
   },
   "outputs": [],
   "source": []
  },
  {
   "cell_type": "code",
   "execution_count": null,
   "metadata": {
    "colab": {},
    "colab_type": "code",
    "id": "KZFId3ozePWv"
   },
   "outputs": [],
   "source": [
    "my_first_array = np.array([1,2,3])"
   ]
  },
  {
   "cell_type": "code",
   "execution_count": null,
   "metadata": {
    "colab": {
     "base_uri": "https://localhost:8080/",
     "height": 34
    },
    "colab_type": "code",
    "id": "Y8Cnv3OueFV2",
    "outputId": "874cb9c6-c932-4700-e0b0-b371112b7909"
   },
   "outputs": [],
   "source": [
    "my_first_array.astype(np.int16)"
   ]
  },
  {
   "cell_type": "code",
   "execution_count": null,
   "metadata": {
    "colab": {
     "base_uri": "https://localhost:8080/",
     "height": 34
    },
    "colab_type": "code",
    "id": "AnTfcAVogcqt",
    "outputId": "0eee697c-efa9-46eb-f187-4d1f439b1d0d"
   },
   "outputs": [],
   "source": [
    "my_first_array.shape"
   ]
  },
  {
   "cell_type": "code",
   "execution_count": null,
   "metadata": {
    "colab": {},
    "colab_type": "code",
    "id": "413RQau9gkVk"
   },
   "outputs": [],
   "source": [
    "my_second_array = np.array([[0.1,1.0,2.1], #len 3\n",
    "                            [2.9,2.7,2.6], #len 3\n",
    "                            [1.3,2.8]]) #len 2"
   ]
  },
  {
   "cell_type": "code",
   "execution_count": null,
   "metadata": {
    "colab": {
     "base_uri": "https://localhost:8080/",
     "height": 34
    },
    "colab_type": "code",
    "id": "JuE_zOKrg0Lv",
    "outputId": "3d86b4cc-f9e5-4b27-a8dd-70085d4ac5d4"
   },
   "outputs": [],
   "source": [
    "my_second_array.shape"
   ]
  },
  {
   "cell_type": "code",
   "execution_count": null,
   "metadata": {
    "colab": {
     "base_uri": "https://localhost:8080/",
     "height": 34
    },
    "colab_type": "code",
    "id": "wfZ8BrVmg2cj",
    "outputId": "ad382655-d171-45d1-ca56-c5942f0a7244"
   },
   "outputs": [],
   "source": [
    "my_second_array.dtype"
   ]
  },
  {
   "cell_type": "code",
   "execution_count": null,
   "metadata": {
    "colab": {},
    "colab_type": "code",
    "id": "7LIxAiLrg6I4"
   },
   "outputs": [],
   "source": [
    "my_third_array = np.array([[0.1,1.0,2.1], #len 3\n",
    "                            [2.9,2.7,2.6], #len 3\n",
    "                            [1.3,2.8,8.8]]) #len 3"
   ]
  },
  {
   "cell_type": "code",
   "execution_count": null,
   "metadata": {
    "colab": {
     "base_uri": "https://localhost:8080/",
     "height": 68
    },
    "colab_type": "code",
    "id": "sxSWATXyhFTN",
    "outputId": "8ea72441-dabb-4f6b-b49b-43c304f3407f"
   },
   "outputs": [],
   "source": [
    "my_third_array"
   ]
  },
  {
   "cell_type": "code",
   "execution_count": null,
   "metadata": {
    "colab": {
     "base_uri": "https://localhost:8080/",
     "height": 34
    },
    "colab_type": "code",
    "id": "yTViDRiHewZF",
    "outputId": "54b0010c-c5cb-49fa-ad19-82a3ea9f0656"
   },
   "outputs": [],
   "source": [
    "my_third_array.shape"
   ]
  },
  {
   "cell_type": "code",
   "execution_count": null,
   "metadata": {
    "colab": {
     "base_uri": "https://localhost:8080/",
     "height": 34
    },
    "colab_type": "code",
    "id": "R_s99C1xhPFj",
    "outputId": "46a03f63-2862-445e-bc44-b9d95e2f5f8c"
   },
   "outputs": [],
   "source": [
    "my_third_array.dtype"
   ]
  },
  {
   "cell_type": "code",
   "execution_count": null,
   "metadata": {
    "colab": {
     "base_uri": "https://localhost:8080/",
     "height": 34
    },
    "colab_type": "code",
    "id": "VSkeRxAFhRzO",
    "outputId": "9686bc53-8e18-451a-9dfc-1a442ed33cf4"
   },
   "outputs": [],
   "source": [
    "my_third_array.dtype"
   ]
  },
  {
   "cell_type": "code",
   "execution_count": null,
   "metadata": {
    "colab": {
     "base_uri": "https://localhost:8080/",
     "height": 85
    },
    "colab_type": "code",
    "id": "3gEk6oQdhUa7",
    "outputId": "f1300343-41e2-4c6d-ca87-1a0acf934cde"
   },
   "outputs": [],
   "source": [
    "print(np.pi)\n",
    "print(np.e)\n",
    "print(np.sin(2*np.pi))\n",
    "print(np.cos(2*np.pi))"
   ]
  },
  {
   "cell_type": "code",
   "execution_count": null,
   "metadata": {
    "colab": {},
    "colab_type": "code",
    "id": "VnUsK18XhYMA"
   },
   "outputs": [],
   "source": [
    "#Create Better Lists\n",
    "x1 = np.linspace(1,10,1000)\n",
    "x2 = np.random.randn(1000)"
   ]
  },
  {
   "cell_type": "code",
   "execution_count": null,
   "metadata": {
    "colab": {
     "base_uri": "https://localhost:8080/",
     "height": 34
    },
    "colab_type": "code",
    "id": "lNcqjAGQhn4Y",
    "outputId": "71031d20-cb8a-4666-c000-1031c5c11f9c"
   },
   "outputs": [],
   "source": [
    "x1.shape, x2.shape"
   ]
  },
  {
   "cell_type": "code",
   "execution_count": null,
   "metadata": {
    "colab": {
     "base_uri": "https://localhost:8080/",
     "height": 442
    },
    "colab_type": "code",
    "id": "LrKB6hnFfsN1",
    "outputId": "8c197add-2869-4913-dd96-51e79e09082d"
   },
   "outputs": [],
   "source": [
    "x2"
   ]
  },
  {
   "cell_type": "code",
   "execution_count": null,
   "metadata": {
    "colab": {},
    "colab_type": "code",
    "id": "LbTV3LRXiH7v"
   },
   "outputs": [],
   "source": [
    "y1 = np.sin(x1)\n",
    "y2 = np.sin(x2)"
   ]
  },
  {
   "cell_type": "code",
   "execution_count": null,
   "metadata": {
    "colab": {},
    "colab_type": "code",
    "id": "CXhPsuCMgajO"
   },
   "outputs": [],
   "source": [
    "import math"
   ]
  },
  {
   "cell_type": "code",
   "execution_count": null,
   "metadata": {
    "colab": {},
    "colab_type": "code",
    "id": "ResihbC8gdx_"
   },
   "outputs": [],
   "source": [
    "math.sin?"
   ]
  },
  {
   "cell_type": "code",
   "execution_count": null,
   "metadata": {
    "colab": {
     "base_uri": "https://localhost:8080/",
     "height": 286
    },
    "colab_type": "code",
    "id": "OammlWPmjlke",
    "outputId": "b159b453-4b58-4633-fef7-66e8a46694d9"
   },
   "outputs": [],
   "source": [
    "plt.plot(x1,y1)"
   ]
  },
  {
   "cell_type": "code",
   "execution_count": null,
   "metadata": {
    "colab": {
     "base_uri": "https://localhost:8080/",
     "height": 286
    },
    "colab_type": "code",
    "id": "ZAg0c38ujoPL",
    "outputId": "d4c0d132-9aa7-4e55-fafb-91291ee6f84b"
   },
   "outputs": [],
   "source": [
    "plt.scatter(x2,y2)"
   ]
  },
  {
   "cell_type": "code",
   "execution_count": null,
   "metadata": {
    "colab": {
     "base_uri": "https://localhost:8080/",
     "height": 340
    },
    "colab_type": "code",
    "id": "Cz3fkirzjwL9",
    "outputId": "71e8e185-af37-4962-9d02-16481603e014"
   },
   "outputs": [],
   "source": [
    "fig,(ax1,ax2) = plt.subplots(nrows=2,ncols=1,figsize=(10,5))\n",
    "ax1.plot(x1,y1)\n",
    "ax2.scatter(x2,y2)"
   ]
  },
  {
   "cell_type": "markdown",
   "metadata": {
    "colab_type": "text",
    "id": "ucRjxa6rlCfM"
   },
   "source": [
    "- Simply put above is a dependent variable (output data) dependent on the independent input variable"
   ]
  },
  {
   "cell_type": "code",
   "execution_count": null,
   "metadata": {
    "colab": {
     "base_uri": "https://localhost:8080/",
     "height": 323
    },
    "colab_type": "code",
    "id": "PJmR9nLqkSIe",
    "outputId": "eb9ccc10-3748-42fb-ea23-666d5761103a"
   },
   "outputs": [],
   "source": [
    "fig,(ax1,ax2) = plt.subplots(nrows=2,ncols=1,figsize=(10,5))\n",
    "fig1 = ax1.hist(x1,bins=20)\n",
    "fig2 = ax2.hist(x2,bins=20)\n",
    "x1ticks = ax1.set_xticks(list(range(11)))\n",
    "x2ticks = ax2.set_xticks(list(range(-3,4)))"
   ]
  },
  {
   "cell_type": "markdown",
   "metadata": {
    "colab_type": "text",
    "id": "hIODDOyvq8FU"
   },
   "source": [
    "### A Look to the data in a tabular structure "
   ]
  },
  {
   "cell_type": "code",
   "execution_count": null,
   "metadata": {
    "colab": {},
    "colab_type": "code",
    "id": "5CF39QlJq70Z"
   },
   "outputs": [],
   "source": [
    "data_dict = {'x1':x1,\n",
    "             'x2':x2,\n",
    "             'y1':y1,\n",
    "             'y2':y2}"
   ]
  },
  {
   "cell_type": "code",
   "execution_count": null,
   "metadata": {
    "colab": {
     "base_uri": "https://localhost:8080/",
     "height": 1000
    },
    "colab_type": "code",
    "id": "oQusxFvHiNF7",
    "outputId": "b17750c1-ce38-4bea-89d8-70d2de487316"
   },
   "outputs": [],
   "source": [
    "data_dict"
   ]
  },
  {
   "cell_type": "code",
   "execution_count": null,
   "metadata": {
    "colab": {},
    "colab_type": "code",
    "id": "vwRitPsEppGF"
   },
   "outputs": [],
   "source": [
    "dataframe = pd.DataFrame(data_dict)"
   ]
  },
  {
   "cell_type": "code",
   "execution_count": null,
   "metadata": {
    "colab": {
     "base_uri": "https://localhost:8080/",
     "height": 419
    },
    "colab_type": "code",
    "id": "k31XBe7prTMO",
    "outputId": "495ae1d8-8b25-419d-82e2-f1f227b21b4f"
   },
   "outputs": [],
   "source": [
    "dataframe"
   ]
  },
  {
   "cell_type": "code",
   "execution_count": null,
   "metadata": {
    "colab": {
     "base_uri": "https://localhost:8080/",
     "height": 1000
    },
    "colab_type": "code",
    "id": "uiByPsOqiY32",
    "outputId": "98cb84fb-eaa9-4feb-c331-3c32bb6823fb"
   },
   "outputs": [],
   "source": [
    "dataframe['x1'].values"
   ]
  },
  {
   "cell_type": "code",
   "execution_count": null,
   "metadata": {
    "colab": {
     "base_uri": "https://localhost:8080/",
     "height": 297
    },
    "colab_type": "code",
    "id": "tfwIQRE9raP1",
    "outputId": "fed27c3d-0647-4e22-9d23-e26ebb3eaa54"
   },
   "outputs": [],
   "source": [
    "dataframe.describe()"
   ]
  },
  {
   "cell_type": "code",
   "execution_count": null,
   "metadata": {
    "colab": {
     "base_uri": "https://localhost:8080/",
     "height": 204
    },
    "colab_type": "code",
    "id": "kEvWVPKripVT",
    "outputId": "514dac00-fa92-4dc8-9e1d-c9e3a1877203"
   },
   "outputs": [],
   "source": [
    "dataframe.info()"
   ]
  },
  {
   "cell_type": "markdown",
   "metadata": {
    "colab_type": "text",
    "id": "K_UNdEb-uOuK"
   },
   "source": [
    "### Work on Some Meaningful Data"
   ]
  },
  {
   "cell_type": "code",
   "execution_count": null,
   "metadata": {
    "colab": {
     "base_uri": "https://localhost:8080/",
     "height": 34
    },
    "colab_type": "code",
    "id": "0nLSC3L6uD78",
    "outputId": "52a20588-380c-4bb6-93e9-219b181a58a8"
   },
   "outputs": [],
   "source": [
    "! ls"
   ]
  },
  {
   "cell_type": "code",
   "execution_count": null,
   "metadata": {
    "colab": {},
    "colab_type": "code",
    "id": "cIn5Ziv3redZ"
   },
   "outputs": [],
   "source": [
    "ks2018 = pd.read_csv('../Data/ks-projects-201801.csv',encoding = \"ISO-8859-1\")"
   ]
  },
  {
   "cell_type": "code",
   "execution_count": null,
   "metadata": {
    "colab": {
     "base_uri": "https://localhost:8080/",
     "height": 479
    },
    "colab_type": "code",
    "id": "W32OVQjuvA5l",
    "outputId": "7e147742-0ca1-440c-9c27-ab7a573c1375"
   },
   "outputs": [],
   "source": [
    "ks2018.head()"
   ]
  },
  {
   "cell_type": "code",
   "execution_count": null,
   "metadata": {
    "colab": {
     "base_uri": "https://localhost:8080/",
     "height": 34
    },
    "colab_type": "code",
    "id": "Mkvg5pMkvNQX",
    "outputId": "96c9fc8a-c4eb-496d-89ce-07852c14b950"
   },
   "outputs": [],
   "source": [
    "ks2018.shape"
   ]
  },
  {
   "cell_type": "code",
   "execution_count": null,
   "metadata": {
    "colab": {
     "base_uri": "https://localhost:8080/",
     "height": 391
    },
    "colab_type": "code",
    "id": "LRdOqiiovjkb",
    "outputId": "81aa02cc-6a18-46c1-9446-d08929f90a5d"
   },
   "outputs": [],
   "source": [
    "ks2018.info()"
   ]
  },
  {
   "cell_type": "code",
   "execution_count": null,
   "metadata": {
    "colab": {},
    "colab_type": "code",
    "id": "xeXHl8F3vlkr"
   },
   "outputs": [],
   "source": [
    "profile = ProfileReport(ks2018, html = {'style':{'full_width':True}})"
   ]
  },
  {
   "cell_type": "code",
   "execution_count": null,
   "metadata": {
    "colab": {
     "base_uri": "https://localhost:8080/",
     "height": 968,
     "referenced_widgets": [
      "beea9f61958c48cb8d05f5b48adaa526",
      "91bd860e9a074842acdc4a3a6beed07c",
      "a64af97085764d349b94a3fbbd60f349",
      "2342774e9daa4b9dadb9cde6387327d6",
      "cf2651454a164c4e965ef3df0b6a036c",
      "76d0520e1f2e4335af5ae337057729bf",
      "40f6798f0608450d9fbf160b0b2f0190",
      "b863a20a252746c08fa174c0596ce31a",
      "3e7b8de006424fb8b3a45e9efaab5804",
      "9f75106909d5491196e1f8249f060499",
      "dcf1e82a98a44613bbe1e93a2afcf570",
      "d4b46e6c53784bc489b599e3a0c2dbbf",
      "8950ba8325d041a883d4a8d5e284d22a",
      "0b3a0fe7c21e41ce8d1ca9d39245f748",
      "46e73e8f8f4c445da01db4557c6f8369",
      "f0c0d5bfce2447eb9c3fac327ba0daa0",
      "7df4dfb6b9684761abd65d95d3aca083",
      "bc7153ae4c3248bba694bab6dd3d3014",
      "d7a36d5a22214041b0e20c367a4c3ecc",
      "b97582633ab74197a79814da20239913",
      "3c1c1713f8c44fbca867b45664562cf3",
      "ede6688c280c4bdfb376cf6fd05ac294",
      "4339a6e1388a49bc857660d13adb0fa4",
      "20ec65155da74ed9a00cdda23aecc033"
     ]
    },
    "colab_type": "code",
    "id": "WAHfsXAVvwdN",
    "outputId": "70a8a16a-57a5-43f2-9692-8090dcf7bf06"
   },
   "outputs": [],
   "source": [
    "profile"
   ]
  },
  {
   "cell_type": "markdown",
   "metadata": {
    "colab_type": "text",
    "id": "PwmtSZR_6SL5"
   },
   "source": [
    "### No Money No Honey"
   ]
  },
  {
   "cell_type": "code",
   "execution_count": null,
   "metadata": {
    "colab": {
     "base_uri": "https://localhost:8080/",
     "height": 286
    },
    "colab_type": "code",
    "id": "i5HGYzbNy2Vn",
    "outputId": "cdff9c38-640b-463d-ab70-296416d1d415"
   },
   "outputs": [],
   "source": [
    "ks2018.goal.transform(lambda x: np.log1p(x)).plot.hist()"
   ]
  },
  {
   "cell_type": "code",
   "execution_count": null,
   "metadata": {
    "colab": {
     "base_uri": "https://localhost:8080/",
     "height": 286
    },
    "colab_type": "code",
    "id": "hIUg19oPmrM7",
    "outputId": "093bbfac-52d5-4636-948a-ec1bfdf69669"
   },
   "outputs": [],
   "source": [
    "np.log1p(ks2018.goal).plot.hist()"
   ]
  },
  {
   "cell_type": "code",
   "execution_count": null,
   "metadata": {
    "colab": {
     "base_uri": "https://localhost:8080/",
     "height": 367
    },
    "colab_type": "code",
    "id": "oIi2c9dG1Ye5",
    "outputId": "f2237775-3773-48c3-a3d9-b243e1837e9d"
   },
   "outputs": [],
   "source": [
    "ks2018.pledged.transform(lambda x: np.log1p(x)).plot.hist()"
   ]
  },
  {
   "cell_type": "code",
   "execution_count": null,
   "metadata": {
    "colab": {},
    "colab_type": "code",
    "id": "8CmYpIcw5b-T"
   },
   "outputs": [],
   "source": [
    "ks2018['log_goal'] = ks2018.goal.transform(lambda x: np.log1p(x))\n",
    "ks2018['log_pledged'] = ks2018.pledged.transform(lambda x: np.log1p(x))"
   ]
  },
  {
   "cell_type": "code",
   "execution_count": null,
   "metadata": {
    "colab": {
     "base_uri": "https://localhost:8080/",
     "height": 1000
    },
    "colab_type": "code",
    "id": "UhP8KByH5s2A",
    "outputId": "b2dc7c2f-77c6-4095-fe4a-f01f987d74d2"
   },
   "outputs": [],
   "source": [
    "fig,axes = plt.subplots(nrows=2,figsize=(10,20))\n",
    "for i,state in enumerate(['successful','failed']):\n",
    "  cmaps = ['Reds','Blues']\n",
    "  x = ks2018.iloc[:10000].log_goal[ks2018.state==state]\n",
    "  y = ks2018.iloc[:10000].log_pledged[ks2018.state==state]\n",
    "  sns.kdeplot(x,y,ax=axes[i],cmap=cmaps[i],shade=True)"
   ]
  },
  {
   "cell_type": "markdown",
   "metadata": {
    "colab_type": "text",
    "id": "oGhyvAV143hE"
   },
   "source": [
    "$ln(pledged)-ln(goal) = ln(\\frac{pledged}{goal})$"
   ]
  },
  {
   "cell_type": "code",
   "execution_count": null,
   "metadata": {
    "colab": {},
    "colab_type": "code",
    "id": "dTOzFPQo3nav"
   },
   "outputs": [],
   "source": [
    "ks2018['log_pleged_goal_ratio'] = ks2018.pledged.transform(lambda x: np.log1p(x)) - ks2018.goal.transform(lambda x: np.log1p(x))"
   ]
  },
  {
   "cell_type": "code",
   "execution_count": null,
   "metadata": {
    "colab": {
     "base_uri": "https://localhost:8080/",
     "height": 595
    },
    "colab_type": "code",
    "id": "CMaGPCbj4paq",
    "outputId": "68aa2616-fb0b-4c9d-871e-f002ce159db1"
   },
   "outputs": [],
   "source": [
    "fig,ax = plt.subplots(figsize=(10,10))\n",
    "for i,state in enumerate(['successful','failed']):\n",
    "  #cmaps = ['Reds','Blues']\n",
    "  x = ks2018.iloc[:10000].log_pleged_goal_ratio[ks2018.state==state]\n",
    "  ax.hist(x)"
   ]
  },
  {
   "cell_type": "markdown",
   "metadata": {
    "colab_type": "text",
    "id": "HSp1xwMt-KxX"
   },
   "source": [
    "WARNING: Too much spoiler for a predictive model!!"
   ]
  },
  {
   "cell_type": "code",
   "execution_count": null,
   "metadata": {
    "colab": {},
    "colab_type": "code",
    "id": "AMVNpBwTDVLd"
   },
   "outputs": [],
   "source": [
    "ks2018.drop(['pledged','usd_pledged_real','usd pledged'],axis=1,inplace=True)"
   ]
  },
  {
   "cell_type": "code",
   "execution_count": null,
   "metadata": {
    "colab": {
     "base_uri": "https://localhost:8080/",
     "height": 221
    },
    "colab_type": "code",
    "id": "rpV5h3EZoqc7",
    "outputId": "2c39dc83-b96a-4809-a146-ea1fef2c06cb"
   },
   "outputs": [],
   "source": [
    "ks2018.launched"
   ]
  },
  {
   "cell_type": "code",
   "execution_count": null,
   "metadata": {
    "colab": {},
    "colab_type": "code",
    "id": "WqdJAfbI4u0m"
   },
   "outputs": [],
   "source": [
    "ks2018['duration'] = (pd.to_datetime(ks2018.deadline) - pd.to_datetime(ks2018.launched)).dt.days"
   ]
  },
  {
   "cell_type": "code",
   "execution_count": null,
   "metadata": {
    "colab": {
     "base_uri": "https://localhost:8080/",
     "height": 221
    },
    "colab_type": "code",
    "id": "i2PWysX3o9aD",
    "outputId": "febc22fc-9c5e-4b15-9b7a-1eecee33a9a5"
   },
   "outputs": [],
   "source": [
    "(pd.to_datetime(ks2018.deadline) - pd.to_datetime(ks2018.launched))"
   ]
  },
  {
   "cell_type": "code",
   "execution_count": null,
   "metadata": {
    "colab": {},
    "colab_type": "code",
    "id": "k7I_A9jJBy4o"
   },
   "outputs": [],
   "source": [
    "ks2018['text_len'] = ks2018.name.transform(lambda x: len(str(x)))"
   ]
  },
  {
   "cell_type": "code",
   "execution_count": null,
   "metadata": {
    "colab": {
     "base_uri": "https://localhost:8080/",
     "height": 221
    },
    "colab_type": "code",
    "id": "Je6mZnUWpZqo",
    "outputId": "ee8096f7-fb48-4e29-eaf8-8f4521eeb0ad"
   },
   "outputs": [],
   "source": [
    "ks2018.state.isin(['successful','failed'])"
   ]
  },
  {
   "cell_type": "code",
   "execution_count": null,
   "metadata": {
    "colab": {},
    "colab_type": "code",
    "id": "8JE8jM5KEnfw"
   },
   "outputs": [],
   "source": [
    "df = ks2018[ks2018.state.isin(['successful','failed'])]"
   ]
  },
  {
   "cell_type": "code",
   "execution_count": null,
   "metadata": {
    "colab": {
     "base_uri": "https://localhost:8080/",
     "height": 238
    },
    "colab_type": "code",
    "id": "d7xGHKngGe2G",
    "outputId": "feb4ab27-8ba7-4382-a737-fac68911ee94"
   },
   "outputs": [],
   "source": [
    "df.groupby('category').goal.mean()"
   ]
  },
  {
   "cell_type": "code",
   "execution_count": null,
   "metadata": {
    "colab": {
     "base_uri": "https://localhost:8080/",
     "height": 306
    },
    "colab_type": "code",
    "id": "afDksPS_GfVR",
    "outputId": "3f015a89-f2a2-4fec-e8b6-169b7ca28d42"
   },
   "outputs": [],
   "source": [
    "df.groupby('main_category').goal.mean()"
   ]
  },
  {
   "cell_type": "code",
   "execution_count": null,
   "metadata": {
    "colab": {},
    "colab_type": "code",
    "id": "77WMujZEGxF_"
   },
   "outputs": [],
   "source": [
    "main_category_mean_df = df.groupby('main_category').\\\n",
    "    goal.mean().\\\n",
    "    reset_index().rename(columns={'goal':'main_cat_mean_goal'})"
   ]
  },
  {
   "cell_type": "code",
   "execution_count": null,
   "metadata": {
    "colab": {},
    "colab_type": "code",
    "id": "zUxXfzMZH8Wv"
   },
   "outputs": [],
   "source": [
    "category_mean_df = df.groupby('category').\\\n",
    "    goal.mean().\\\n",
    "    reset_index().rename(columns={'goal':'cat_mean_goal'})"
   ]
  },
  {
   "cell_type": "code",
   "execution_count": null,
   "metadata": {
    "colab": {
     "base_uri": "https://localhost:8080/",
     "height": 514
    },
    "colab_type": "code",
    "id": "XJWv8Gt8p0rH",
    "outputId": "2dc64806-5072-4da1-dc8c-7a0311d86581"
   },
   "outputs": [],
   "source": [
    "main_category_mean_df"
   ]
  },
  {
   "cell_type": "code",
   "execution_count": null,
   "metadata": {
    "colab": {},
    "colab_type": "code",
    "id": "qny0wK2MIEcn"
   },
   "outputs": [],
   "source": [
    "df = df.merge(main_category_mean_df,how='left',on='main_category').\\\n",
    "        merge(category_mean_df,how='left',on='category')"
   ]
  },
  {
   "cell_type": "code",
   "execution_count": null,
   "metadata": {
    "colab": {
     "base_uri": "https://localhost:8080/",
     "height": 462
    },
    "colab_type": "code",
    "id": "syrK5j_lJ43q",
    "outputId": "ad08856b-4d25-440b-84a8-49ec6467382c"
   },
   "outputs": [],
   "source": [
    "df.head()"
   ]
  },
  {
   "cell_type": "code",
   "execution_count": null,
   "metadata": {
    "colab": {},
    "colab_type": "code",
    "id": "0-8zp0guKG5l"
   },
   "outputs": [],
   "source": [
    "df['diff_main_cat_goal'] = df.goal - df.main_cat_mean_goal - df.goal\n",
    "df['diff_cat_goal'] = df.goal - df.cat_mean_goal"
   ]
  },
  {
   "cell_type": "code",
   "execution_count": null,
   "metadata": {
    "colab": {
     "base_uri": "https://localhost:8080/",
     "height": 462
    },
    "colab_type": "code",
    "id": "jWiIXVt7KiPM",
    "outputId": "90ed2bd0-b995-4018-e0d4-ef120cbd06ea"
   },
   "outputs": [],
   "source": [
    "df.head()\n"
   ]
  },
  {
   "cell_type": "markdown",
   "metadata": {
    "colab_type": "text",
    "id": "QThvU-fRLGas"
   },
   "source": [
    "### Time Matters"
   ]
  },
  {
   "cell_type": "code",
   "execution_count": null,
   "metadata": {
    "colab": {},
    "colab_type": "code",
    "id": "pBk7pD68NzWK"
   },
   "outputs": [],
   "source": [
    "df.deadline = pd.to_datetime(df.deadline)\n",
    "df.launched = pd.to_datetime(df.launched)"
   ]
  },
  {
   "cell_type": "code",
   "execution_count": null,
   "metadata": {
    "colab": {},
    "colab_type": "code",
    "id": "QTJfMnfZKjYZ"
   },
   "outputs": [],
   "source": [
    "df['deadline_year'] = df.deadline.dt.year\n",
    "df['deadline_month'] = df.deadline.dt.month\n",
    "df['deadline_day'] = df.deadline.dt.day\n",
    "df['deadline_dow'] = df.deadline.dt.dayofweek\n",
    "df['deadline_week'] = df.deadline.dt.week\n",
    "\n",
    "df['launch_year'] = df.launched.dt.year\n",
    "df['launch_month'] = df.launched.dt.month\n",
    "df['launch_day'] = df.launched.dt.day\n",
    "df['launch_dow'] = df.launched.dt.dayofweek\n",
    "df['launch_week'] = df.launched.dt.week"
   ]
  },
  {
   "cell_type": "code",
   "execution_count": null,
   "metadata": {
    "colab": {},
    "colab_type": "code",
    "id": "GZsEKH7NNxra"
   },
   "outputs": [],
   "source": [
    "df[\"deadline_is_weekend\"] = df[\"launch_dow\"].apply(lambda x: 1 if x > 4 else 0)\n",
    "df[\"launch_is_weekend\"] = df[\"launch_dow\"].apply(lambda x: 1 if x > 4 else 0)"
   ]
  },
  {
   "cell_type": "code",
   "execution_count": null,
   "metadata": {
    "colab": {
     "base_uri": "https://localhost:8080/",
     "height": 462
    },
    "colab_type": "code",
    "id": "BQB2FBaWOQbS",
    "outputId": "57a0b6a0-fba0-42a9-c189-32d92f59ba5e"
   },
   "outputs": [],
   "source": [
    "df.head()"
   ]
  },
  {
   "cell_type": "markdown",
   "metadata": {
    "colab_type": "text",
    "id": "STNeIaOgOm1w"
   },
   "source": [
    "### Categories"
   ]
  },
  {
   "cell_type": "code",
   "execution_count": null,
   "metadata": {
    "colab": {},
    "colab_type": "code",
    "id": "djEPQ1SYOmhv"
   },
   "outputs": [],
   "source": [
    "main_cat_ohe = pd.get_dummies(df['main_category'])"
   ]
  },
  {
   "cell_type": "code",
   "execution_count": null,
   "metadata": {
    "colab": {
     "base_uri": "https://localhost:8080/",
     "height": 258
    },
    "colab_type": "code",
    "id": "5JQAP0Psq_LY",
    "outputId": "0ca56d40-9e22-4492-a1e9-7626315eb000"
   },
   "outputs": [],
   "source": [
    "main_cat_ohe.head()"
   ]
  },
  {
   "cell_type": "code",
   "execution_count": null,
   "metadata": {
    "colab": {},
    "colab_type": "code",
    "id": "giuEbT6XOVd1"
   },
   "outputs": [],
   "source": [
    "cat_ohe = pd.get_dummies(df['category'])"
   ]
  },
  {
   "cell_type": "code",
   "execution_count": null,
   "metadata": {
    "colab": {
     "base_uri": "https://localhost:8080/",
     "height": 287
    },
    "colab_type": "code",
    "id": "yPl16vmwre9T",
    "outputId": "43ccac50-9d85-4980-bf5a-734c8a7dec00"
   },
   "outputs": [],
   "source": [
    "cat_ohe.head()"
   ]
  },
  {
   "cell_type": "code",
   "execution_count": null,
   "metadata": {
    "colab": {
     "base_uri": "https://localhost:8080/",
     "height": 419
    },
    "colab_type": "code",
    "id": "8EG-7_Ntr_AM",
    "outputId": "99ee12b0-b3e5-4e58-ce63-3807ec8a3c1d"
   },
   "outputs": [],
   "source": [
    "pd.get_dummies(df.state,drop_first=True)"
   ]
  },
  {
   "cell_type": "code",
   "execution_count": null,
   "metadata": {
    "colab": {},
    "colab_type": "code",
    "id": "kvJH-x5rP3gq"
   },
   "outputs": [],
   "source": [
    "label = pd.get_dummies(df.state,drop_first=True).values"
   ]
  },
  {
   "cell_type": "code",
   "execution_count": null,
   "metadata": {
    "colab": {
     "base_uri": "https://localhost:8080/",
     "height": 136
    },
    "colab_type": "code",
    "id": "t4KUNM1yrvlK",
    "outputId": "29c702e3-3e5c-4240-e27b-42858e298133"
   },
   "outputs": [],
   "source": [
    "label"
   ]
  },
  {
   "cell_type": "code",
   "execution_count": null,
   "metadata": {
    "colab": {
     "base_uri": "https://localhost:8080/",
     "height": 462
    },
    "colab_type": "code",
    "id": "VaFFgr88sJzI",
    "outputId": "4008ca47-5173-4326-d92c-62220d2022d8"
   },
   "outputs": [],
   "source": [
    "df.head()"
   ]
  },
  {
   "cell_type": "code",
   "execution_count": null,
   "metadata": {
    "colab": {},
    "colab_type": "code",
    "id": "gMbBLWucOgjI"
   },
   "outputs": [],
   "source": [
    "final_df = df.drop(['ID','name','category','main_category','currency','backers',\n",
    "                    'deadline','launched','country','state','log_pleged_goal_ratio','log_pledged','main_cat_mean_goal','cat_mean_goal'],axis=1)"
   ]
  },
  {
   "cell_type": "code",
   "execution_count": null,
   "metadata": {
    "colab": {},
    "colab_type": "code",
    "id": "jFLKS6DCQKSl"
   },
   "outputs": [],
   "source": [
    "final_df = pd.concat([final_df,main_cat_ohe,cat_ohe],axis=1)"
   ]
  },
  {
   "cell_type": "code",
   "execution_count": null,
   "metadata": {
    "colab": {
     "base_uri": "https://localhost:8080/",
     "height": 287
    },
    "colab_type": "code",
    "id": "sW2zAm1_QNWs",
    "outputId": "ae1ae67b-1107-4952-c871-05e034cf4e8b"
   },
   "outputs": [],
   "source": [
    "final_df.head()"
   ]
  },
  {
   "cell_type": "markdown",
   "metadata": {
    "colab_type": "text",
    "id": "cEDqphd_Qyh8"
   },
   "source": [
    "### Let's Model"
   ]
  },
  {
   "cell_type": "code",
   "execution_count": null,
   "metadata": {
    "colab": {},
    "colab_type": "code",
    "id": "ud5koNrGQspJ"
   },
   "outputs": [],
   "source": [
    "from sklearn.model_selection import train_test_split\n",
    "from sklearn.ensemble import RandomForestClassifier\n",
    "from sklearn.metrics import accuracy_score"
   ]
  },
  {
   "cell_type": "code",
   "execution_count": null,
   "metadata": {
    "colab": {},
    "colab_type": "code",
    "id": "n0xdr3xhRBby"
   },
   "outputs": [],
   "source": [
    "X_train, X_test, y_train, y_test = train_test_split(final_df, label, test_size = 0.25, random_state = 2)"
   ]
  },
  {
   "cell_type": "code",
   "execution_count": null,
   "metadata": {
    "colab": {
     "base_uri": "https://localhost:8080/",
     "height": 34
    },
    "colab_type": "code",
    "id": "QLWT8RsZReL-",
    "outputId": "8f8e2a0b-5aac-4160-d794-a8da74158a40"
   },
   "outputs": [],
   "source": [
    "X_train.shape, X_test.shape"
   ]
  },
  {
   "cell_type": "code",
   "execution_count": null,
   "metadata": {
    "colab": {
     "base_uri": "https://localhost:8080/",
     "height": 105
    },
    "colab_type": "code",
    "id": "nOt-CL9KRgK1",
    "outputId": "8ade3d62-d95a-4194-e5d5-30366cf2ebc4"
   },
   "outputs": [],
   "source": [
    "model = RandomForestClassifier(n_estimators=50, random_state=0).fit(X_train, y_train)\n",
    "y_pred = model.predict(X_test)"
   ]
  },
  {
   "cell_type": "code",
   "execution_count": null,
   "metadata": {
    "colab": {
     "base_uri": "https://localhost:8080/",
     "height": 34
    },
    "colab_type": "code",
    "id": "m-5J9Y1eRqR6",
    "outputId": "ceb5571f-6d52-4aa6-d72d-7b177e077595"
   },
   "outputs": [],
   "source": [
    "accuracy_score(y_test,y_pred)"
   ]
  },
  {
   "cell_type": "code",
   "execution_count": null,
   "metadata": {
    "colab": {},
    "colab_type": "code",
    "id": "KPiqdkSCR1DK"
   },
   "outputs": [],
   "source": [
    "from plotly.offline import iplot, init_notebook_mode\n",
    "import plotly.graph_objs as go"
   ]
  },
  {
   "cell_type": "code",
   "execution_count": null,
   "metadata": {
    "colab": {
     "base_uri": "https://localhost:8080/",
     "height": 610
    },
    "colab_type": "code",
    "id": "xexiBzWNSF5Y",
    "outputId": "f5901e11-f06d-489f-af48-42d83ca2918a"
   },
   "outputs": [],
   "source": [
    "feature_importances = pd.DataFrame(model.feature_importances_, index = X_train.columns, columns=['importance'])\n",
    "feature_importances = feature_importances.sort_values('importance', ascending=False)\n",
    "\n",
    "colors = [\"gray\"] * 9 + [\"green\"]*6\n",
    "trace1 = go.Bar(y = [x.title()+\"  \" for x in feature_importances.index[:15][::-1]], \n",
    "                x = feature_importances.importance[:15][::-1], \n",
    "                name=\"feature importance (relative)\",\n",
    "                marker=dict(color=colors, opacity=0.4), orientation = \"h\")\n",
    "\n",
    "data = [trace1]\n",
    "\n",
    "layout = go.Layout(\n",
    "    margin=dict(l=400), width = 1000,\n",
    "    xaxis=dict(range=(0.0,0.15)),\n",
    "    title='Relative Feature Importance (Which Features are important to make predictions ?)',\n",
    "    barmode='group',\n",
    "    bargap=0.25\n",
    ")\n",
    "fig = go.Figure(data=data, layout=layout)\n",
    "iplot(fig)\n",
    "\n",
    "from IPython.display import display\n",
    "from IPython.core.display import HTML\n",
    "\n",
    "tag = \"<div> Most Important (Relative) : \"\n",
    "for feat in feature_importances.index[:10]:\n",
    "    tag += \"<span><font color='green'>\" +feat.title().replace(\"_\",\"\")+ \"</font> &nbsp;|&nbsp; </span>\" \n",
    "tag += \"<br>Least Important (Relative) : \"\n",
    "for feat in feature_importances.index[-15:]:\n",
    "    tag += \"<span><font color='red'>\" +feat.title().replace(\"_\",\"\")+ \"</font> &nbsp;|&nbsp; </span>\" \n",
    "tag += \"</div>\"\n",
    "display(HTML(tag))"
   ]
  },
  {
   "cell_type": "code",
   "execution_count": null,
   "metadata": {
    "colab": {},
    "colab_type": "code",
    "id": "o4yPEwm6Sdyv"
   },
   "outputs": [],
   "source": []
  }
 ],
 "metadata": {
  "colab": {
   "collapsed_sections": [],
   "name": "Mild_Python.ipynb",
   "provenance": [],
   "toc_visible": true
  },
  "kernelspec": {
   "display_name": "Python 3",
   "language": "python",
   "name": "python3"
  },
  "language_info": {
   "codemirror_mode": {
    "name": "ipython",
    "version": 3
   },
   "file_extension": ".py",
   "mimetype": "text/x-python",
   "name": "python",
   "nbconvert_exporter": "python",
   "pygments_lexer": "ipython3",
   "version": "3.7.6"
  },
  "widgets": {
   "application/vnd.jupyter.widget-state+json": {
    "0b3a0fe7c21e41ce8d1ca9d39245f748": {
     "model_module": "@jupyter-widgets/base",
     "model_name": "LayoutModel",
     "state": {
      "_model_module": "@jupyter-widgets/base",
      "_model_module_version": "1.2.0",
      "_model_name": "LayoutModel",
      "_view_count": null,
      "_view_module": "@jupyter-widgets/base",
      "_view_module_version": "1.2.0",
      "_view_name": "LayoutView",
      "align_content": null,
      "align_items": null,
      "align_self": null,
      "border": null,
      "bottom": null,
      "display": null,
      "flex": null,
      "flex_flow": null,
      "grid_area": null,
      "grid_auto_columns": null,
      "grid_auto_flow": null,
      "grid_auto_rows": null,
      "grid_column": null,
      "grid_gap": null,
      "grid_row": null,
      "grid_template_areas": null,
      "grid_template_columns": null,
      "grid_template_rows": null,
      "height": null,
      "justify_content": null,
      "justify_items": null,
      "left": null,
      "margin": null,
      "max_height": null,
      "max_width": null,
      "min_height": null,
      "min_width": null,
      "object_fit": null,
      "object_position": null,
      "order": null,
      "overflow": null,
      "overflow_x": null,
      "overflow_y": null,
      "padding": null,
      "right": null,
      "top": null,
      "visibility": null,
      "width": null
     }
    },
    "20ec65155da74ed9a00cdda23aecc033": {
     "model_module": "@jupyter-widgets/base",
     "model_name": "LayoutModel",
     "state": {
      "_model_module": "@jupyter-widgets/base",
      "_model_module_version": "1.2.0",
      "_model_name": "LayoutModel",
      "_view_count": null,
      "_view_module": "@jupyter-widgets/base",
      "_view_module_version": "1.2.0",
      "_view_name": "LayoutView",
      "align_content": null,
      "align_items": null,
      "align_self": null,
      "border": null,
      "bottom": null,
      "display": null,
      "flex": null,
      "flex_flow": null,
      "grid_area": null,
      "grid_auto_columns": null,
      "grid_auto_flow": null,
      "grid_auto_rows": null,
      "grid_column": null,
      "grid_gap": null,
      "grid_row": null,
      "grid_template_areas": null,
      "grid_template_columns": null,
      "grid_template_rows": null,
      "height": null,
      "justify_content": null,
      "justify_items": null,
      "left": null,
      "margin": null,
      "max_height": null,
      "max_width": null,
      "min_height": null,
      "min_width": null,
      "object_fit": null,
      "object_position": null,
      "order": null,
      "overflow": null,
      "overflow_x": null,
      "overflow_y": null,
      "padding": null,
      "right": null,
      "top": null,
      "visibility": null,
      "width": null
     }
    },
    "2342774e9daa4b9dadb9cde6387327d6": {
     "model_module": "@jupyter-widgets/controls",
     "model_name": "HTMLModel",
     "state": {
      "_dom_classes": [],
      "_model_module": "@jupyter-widgets/controls",
      "_model_module_version": "1.5.0",
      "_model_name": "HTMLModel",
      "_view_count": null,
      "_view_module": "@jupyter-widgets/controls",
      "_view_module_version": "1.5.0",
      "_view_name": "HTMLView",
      "description": "",
      "description_tooltip": null,
      "layout": "IPY_MODEL_b863a20a252746c08fa174c0596ce31a",
      "placeholder": "​",
      "style": "IPY_MODEL_40f6798f0608450d9fbf160b0b2f0190",
      "value": " 29/29 [12:25&lt;00:00, 25.72s/it, Completed]"
     }
    },
    "3c1c1713f8c44fbca867b45664562cf3": {
     "model_module": "@jupyter-widgets/controls",
     "model_name": "ProgressStyleModel",
     "state": {
      "_model_module": "@jupyter-widgets/controls",
      "_model_module_version": "1.5.0",
      "_model_name": "ProgressStyleModel",
      "_view_count": null,
      "_view_module": "@jupyter-widgets/base",
      "_view_module_version": "1.2.0",
      "_view_name": "StyleView",
      "bar_color": null,
      "description_width": "initial"
     }
    },
    "3e7b8de006424fb8b3a45e9efaab5804": {
     "model_module": "@jupyter-widgets/controls",
     "model_name": "HBoxModel",
     "state": {
      "_dom_classes": [],
      "_model_module": "@jupyter-widgets/controls",
      "_model_module_version": "1.5.0",
      "_model_name": "HBoxModel",
      "_view_count": null,
      "_view_module": "@jupyter-widgets/controls",
      "_view_module_version": "1.5.0",
      "_view_name": "HBoxView",
      "box_style": "",
      "children": [
       "IPY_MODEL_dcf1e82a98a44613bbe1e93a2afcf570",
       "IPY_MODEL_d4b46e6c53784bc489b599e3a0c2dbbf"
      ],
      "layout": "IPY_MODEL_9f75106909d5491196e1f8249f060499"
     }
    },
    "40f6798f0608450d9fbf160b0b2f0190": {
     "model_module": "@jupyter-widgets/controls",
     "model_name": "DescriptionStyleModel",
     "state": {
      "_model_module": "@jupyter-widgets/controls",
      "_model_module_version": "1.5.0",
      "_model_name": "DescriptionStyleModel",
      "_view_count": null,
      "_view_module": "@jupyter-widgets/base",
      "_view_module_version": "1.2.0",
      "_view_name": "StyleView",
      "description_width": ""
     }
    },
    "4339a6e1388a49bc857660d13adb0fa4": {
     "model_module": "@jupyter-widgets/controls",
     "model_name": "DescriptionStyleModel",
     "state": {
      "_model_module": "@jupyter-widgets/controls",
      "_model_module_version": "1.5.0",
      "_model_name": "DescriptionStyleModel",
      "_view_count": null,
      "_view_module": "@jupyter-widgets/base",
      "_view_module_version": "1.2.0",
      "_view_name": "StyleView",
      "description_width": ""
     }
    },
    "46e73e8f8f4c445da01db4557c6f8369": {
     "model_module": "@jupyter-widgets/controls",
     "model_name": "DescriptionStyleModel",
     "state": {
      "_model_module": "@jupyter-widgets/controls",
      "_model_module_version": "1.5.0",
      "_model_name": "DescriptionStyleModel",
      "_view_count": null,
      "_view_module": "@jupyter-widgets/base",
      "_view_module_version": "1.2.0",
      "_view_name": "StyleView",
      "description_width": ""
     }
    },
    "76d0520e1f2e4335af5ae337057729bf": {
     "model_module": "@jupyter-widgets/base",
     "model_name": "LayoutModel",
     "state": {
      "_model_module": "@jupyter-widgets/base",
      "_model_module_version": "1.2.0",
      "_model_name": "LayoutModel",
      "_view_count": null,
      "_view_module": "@jupyter-widgets/base",
      "_view_module_version": "1.2.0",
      "_view_name": "LayoutView",
      "align_content": null,
      "align_items": null,
      "align_self": null,
      "border": null,
      "bottom": null,
      "display": null,
      "flex": null,
      "flex_flow": null,
      "grid_area": null,
      "grid_auto_columns": null,
      "grid_auto_flow": null,
      "grid_auto_rows": null,
      "grid_column": null,
      "grid_gap": null,
      "grid_row": null,
      "grid_template_areas": null,
      "grid_template_columns": null,
      "grid_template_rows": null,
      "height": null,
      "justify_content": null,
      "justify_items": null,
      "left": null,
      "margin": null,
      "max_height": null,
      "max_width": null,
      "min_height": null,
      "min_width": null,
      "object_fit": null,
      "object_position": null,
      "order": null,
      "overflow": null,
      "overflow_x": null,
      "overflow_y": null,
      "padding": null,
      "right": null,
      "top": null,
      "visibility": null,
      "width": null
     }
    },
    "7df4dfb6b9684761abd65d95d3aca083": {
     "model_module": "@jupyter-widgets/controls",
     "model_name": "HBoxModel",
     "state": {
      "_dom_classes": [],
      "_model_module": "@jupyter-widgets/controls",
      "_model_module_version": "1.5.0",
      "_model_name": "HBoxModel",
      "_view_count": null,
      "_view_module": "@jupyter-widgets/controls",
      "_view_module_version": "1.5.0",
      "_view_name": "HBoxView",
      "box_style": "",
      "children": [
       "IPY_MODEL_d7a36d5a22214041b0e20c367a4c3ecc",
       "IPY_MODEL_b97582633ab74197a79814da20239913"
      ],
      "layout": "IPY_MODEL_bc7153ae4c3248bba694bab6dd3d3014"
     }
    },
    "8950ba8325d041a883d4a8d5e284d22a": {
     "model_module": "@jupyter-widgets/controls",
     "model_name": "ProgressStyleModel",
     "state": {
      "_model_module": "@jupyter-widgets/controls",
      "_model_module_version": "1.5.0",
      "_model_name": "ProgressStyleModel",
      "_view_count": null,
      "_view_module": "@jupyter-widgets/base",
      "_view_module_version": "1.2.0",
      "_view_name": "StyleView",
      "bar_color": null,
      "description_width": "initial"
     }
    },
    "91bd860e9a074842acdc4a3a6beed07c": {
     "model_module": "@jupyter-widgets/base",
     "model_name": "LayoutModel",
     "state": {
      "_model_module": "@jupyter-widgets/base",
      "_model_module_version": "1.2.0",
      "_model_name": "LayoutModel",
      "_view_count": null,
      "_view_module": "@jupyter-widgets/base",
      "_view_module_version": "1.2.0",
      "_view_name": "LayoutView",
      "align_content": null,
      "align_items": null,
      "align_self": null,
      "border": null,
      "bottom": null,
      "display": null,
      "flex": null,
      "flex_flow": null,
      "grid_area": null,
      "grid_auto_columns": null,
      "grid_auto_flow": null,
      "grid_auto_rows": null,
      "grid_column": null,
      "grid_gap": null,
      "grid_row": null,
      "grid_template_areas": null,
      "grid_template_columns": null,
      "grid_template_rows": null,
      "height": null,
      "justify_content": null,
      "justify_items": null,
      "left": null,
      "margin": null,
      "max_height": null,
      "max_width": null,
      "min_height": null,
      "min_width": null,
      "object_fit": null,
      "object_position": null,
      "order": null,
      "overflow": null,
      "overflow_x": null,
      "overflow_y": null,
      "padding": null,
      "right": null,
      "top": null,
      "visibility": null,
      "width": null
     }
    },
    "9f75106909d5491196e1f8249f060499": {
     "model_module": "@jupyter-widgets/base",
     "model_name": "LayoutModel",
     "state": {
      "_model_module": "@jupyter-widgets/base",
      "_model_module_version": "1.2.0",
      "_model_name": "LayoutModel",
      "_view_count": null,
      "_view_module": "@jupyter-widgets/base",
      "_view_module_version": "1.2.0",
      "_view_name": "LayoutView",
      "align_content": null,
      "align_items": null,
      "align_self": null,
      "border": null,
      "bottom": null,
      "display": null,
      "flex": null,
      "flex_flow": null,
      "grid_area": null,
      "grid_auto_columns": null,
      "grid_auto_flow": null,
      "grid_auto_rows": null,
      "grid_column": null,
      "grid_gap": null,
      "grid_row": null,
      "grid_template_areas": null,
      "grid_template_columns": null,
      "grid_template_rows": null,
      "height": null,
      "justify_content": null,
      "justify_items": null,
      "left": null,
      "margin": null,
      "max_height": null,
      "max_width": null,
      "min_height": null,
      "min_width": null,
      "object_fit": null,
      "object_position": null,
      "order": null,
      "overflow": null,
      "overflow_x": null,
      "overflow_y": null,
      "padding": null,
      "right": null,
      "top": null,
      "visibility": null,
      "width": null
     }
    },
    "a64af97085764d349b94a3fbbd60f349": {
     "model_module": "@jupyter-widgets/controls",
     "model_name": "FloatProgressModel",
     "state": {
      "_dom_classes": [],
      "_model_module": "@jupyter-widgets/controls",
      "_model_module_version": "1.5.0",
      "_model_name": "FloatProgressModel",
      "_view_count": null,
      "_view_module": "@jupyter-widgets/controls",
      "_view_module_version": "1.5.0",
      "_view_name": "ProgressView",
      "bar_style": "success",
      "description": "Summarize dataset: 100%",
      "description_tooltip": null,
      "layout": "IPY_MODEL_76d0520e1f2e4335af5ae337057729bf",
      "max": 29,
      "min": 0,
      "orientation": "horizontal",
      "style": "IPY_MODEL_cf2651454a164c4e965ef3df0b6a036c",
      "value": 29
     }
    },
    "b863a20a252746c08fa174c0596ce31a": {
     "model_module": "@jupyter-widgets/base",
     "model_name": "LayoutModel",
     "state": {
      "_model_module": "@jupyter-widgets/base",
      "_model_module_version": "1.2.0",
      "_model_name": "LayoutModel",
      "_view_count": null,
      "_view_module": "@jupyter-widgets/base",
      "_view_module_version": "1.2.0",
      "_view_name": "LayoutView",
      "align_content": null,
      "align_items": null,
      "align_self": null,
      "border": null,
      "bottom": null,
      "display": null,
      "flex": null,
      "flex_flow": null,
      "grid_area": null,
      "grid_auto_columns": null,
      "grid_auto_flow": null,
      "grid_auto_rows": null,
      "grid_column": null,
      "grid_gap": null,
      "grid_row": null,
      "grid_template_areas": null,
      "grid_template_columns": null,
      "grid_template_rows": null,
      "height": null,
      "justify_content": null,
      "justify_items": null,
      "left": null,
      "margin": null,
      "max_height": null,
      "max_width": null,
      "min_height": null,
      "min_width": null,
      "object_fit": null,
      "object_position": null,
      "order": null,
      "overflow": null,
      "overflow_x": null,
      "overflow_y": null,
      "padding": null,
      "right": null,
      "top": null,
      "visibility": null,
      "width": null
     }
    },
    "b97582633ab74197a79814da20239913": {
     "model_module": "@jupyter-widgets/controls",
     "model_name": "HTMLModel",
     "state": {
      "_dom_classes": [],
      "_model_module": "@jupyter-widgets/controls",
      "_model_module_version": "1.5.0",
      "_model_name": "HTMLModel",
      "_view_count": null,
      "_view_module": "@jupyter-widgets/controls",
      "_view_module_version": "1.5.0",
      "_view_name": "HTMLView",
      "description": "",
      "description_tooltip": null,
      "layout": "IPY_MODEL_20ec65155da74ed9a00cdda23aecc033",
      "placeholder": "​",
      "style": "IPY_MODEL_4339a6e1388a49bc857660d13adb0fa4",
      "value": " 1/1 [11:36&lt;00:00, 696.94s/it]"
     }
    },
    "bc7153ae4c3248bba694bab6dd3d3014": {
     "model_module": "@jupyter-widgets/base",
     "model_name": "LayoutModel",
     "state": {
      "_model_module": "@jupyter-widgets/base",
      "_model_module_version": "1.2.0",
      "_model_name": "LayoutModel",
      "_view_count": null,
      "_view_module": "@jupyter-widgets/base",
      "_view_module_version": "1.2.0",
      "_view_name": "LayoutView",
      "align_content": null,
      "align_items": null,
      "align_self": null,
      "border": null,
      "bottom": null,
      "display": null,
      "flex": null,
      "flex_flow": null,
      "grid_area": null,
      "grid_auto_columns": null,
      "grid_auto_flow": null,
      "grid_auto_rows": null,
      "grid_column": null,
      "grid_gap": null,
      "grid_row": null,
      "grid_template_areas": null,
      "grid_template_columns": null,
      "grid_template_rows": null,
      "height": null,
      "justify_content": null,
      "justify_items": null,
      "left": null,
      "margin": null,
      "max_height": null,
      "max_width": null,
      "min_height": null,
      "min_width": null,
      "object_fit": null,
      "object_position": null,
      "order": null,
      "overflow": null,
      "overflow_x": null,
      "overflow_y": null,
      "padding": null,
      "right": null,
      "top": null,
      "visibility": null,
      "width": null
     }
    },
    "beea9f61958c48cb8d05f5b48adaa526": {
     "model_module": "@jupyter-widgets/controls",
     "model_name": "HBoxModel",
     "state": {
      "_dom_classes": [],
      "_model_module": "@jupyter-widgets/controls",
      "_model_module_version": "1.5.0",
      "_model_name": "HBoxModel",
      "_view_count": null,
      "_view_module": "@jupyter-widgets/controls",
      "_view_module_version": "1.5.0",
      "_view_name": "HBoxView",
      "box_style": "",
      "children": [
       "IPY_MODEL_a64af97085764d349b94a3fbbd60f349",
       "IPY_MODEL_2342774e9daa4b9dadb9cde6387327d6"
      ],
      "layout": "IPY_MODEL_91bd860e9a074842acdc4a3a6beed07c"
     }
    },
    "cf2651454a164c4e965ef3df0b6a036c": {
     "model_module": "@jupyter-widgets/controls",
     "model_name": "ProgressStyleModel",
     "state": {
      "_model_module": "@jupyter-widgets/controls",
      "_model_module_version": "1.5.0",
      "_model_name": "ProgressStyleModel",
      "_view_count": null,
      "_view_module": "@jupyter-widgets/base",
      "_view_module_version": "1.2.0",
      "_view_name": "StyleView",
      "bar_color": null,
      "description_width": "initial"
     }
    },
    "d4b46e6c53784bc489b599e3a0c2dbbf": {
     "model_module": "@jupyter-widgets/controls",
     "model_name": "HTMLModel",
     "state": {
      "_dom_classes": [],
      "_model_module": "@jupyter-widgets/controls",
      "_model_module_version": "1.5.0",
      "_model_name": "HTMLModel",
      "_view_count": null,
      "_view_module": "@jupyter-widgets/controls",
      "_view_module_version": "1.5.0",
      "_view_name": "HTMLView",
      "description": "",
      "description_tooltip": null,
      "layout": "IPY_MODEL_f0c0d5bfce2447eb9c3fac327ba0daa0",
      "placeholder": "​",
      "style": "IPY_MODEL_46e73e8f8f4c445da01db4557c6f8369",
      "value": " 1/1 [11:46&lt;00:00, 706.88s/it]"
     }
    },
    "d7a36d5a22214041b0e20c367a4c3ecc": {
     "model_module": "@jupyter-widgets/controls",
     "model_name": "FloatProgressModel",
     "state": {
      "_dom_classes": [],
      "_model_module": "@jupyter-widgets/controls",
      "_model_module_version": "1.5.0",
      "_model_name": "FloatProgressModel",
      "_view_count": null,
      "_view_module": "@jupyter-widgets/controls",
      "_view_module_version": "1.5.0",
      "_view_name": "ProgressView",
      "bar_style": "success",
      "description": "Render HTML: 100%",
      "description_tooltip": null,
      "layout": "IPY_MODEL_ede6688c280c4bdfb376cf6fd05ac294",
      "max": 1,
      "min": 0,
      "orientation": "horizontal",
      "style": "IPY_MODEL_3c1c1713f8c44fbca867b45664562cf3",
      "value": 1
     }
    },
    "dcf1e82a98a44613bbe1e93a2afcf570": {
     "model_module": "@jupyter-widgets/controls",
     "model_name": "FloatProgressModel",
     "state": {
      "_dom_classes": [],
      "_model_module": "@jupyter-widgets/controls",
      "_model_module_version": "1.5.0",
      "_model_name": "FloatProgressModel",
      "_view_count": null,
      "_view_module": "@jupyter-widgets/controls",
      "_view_module_version": "1.5.0",
      "_view_name": "ProgressView",
      "bar_style": "success",
      "description": "Generate report structure: 100%",
      "description_tooltip": null,
      "layout": "IPY_MODEL_0b3a0fe7c21e41ce8d1ca9d39245f748",
      "max": 1,
      "min": 0,
      "orientation": "horizontal",
      "style": "IPY_MODEL_8950ba8325d041a883d4a8d5e284d22a",
      "value": 1
     }
    },
    "ede6688c280c4bdfb376cf6fd05ac294": {
     "model_module": "@jupyter-widgets/base",
     "model_name": "LayoutModel",
     "state": {
      "_model_module": "@jupyter-widgets/base",
      "_model_module_version": "1.2.0",
      "_model_name": "LayoutModel",
      "_view_count": null,
      "_view_module": "@jupyter-widgets/base",
      "_view_module_version": "1.2.0",
      "_view_name": "LayoutView",
      "align_content": null,
      "align_items": null,
      "align_self": null,
      "border": null,
      "bottom": null,
      "display": null,
      "flex": null,
      "flex_flow": null,
      "grid_area": null,
      "grid_auto_columns": null,
      "grid_auto_flow": null,
      "grid_auto_rows": null,
      "grid_column": null,
      "grid_gap": null,
      "grid_row": null,
      "grid_template_areas": null,
      "grid_template_columns": null,
      "grid_template_rows": null,
      "height": null,
      "justify_content": null,
      "justify_items": null,
      "left": null,
      "margin": null,
      "max_height": null,
      "max_width": null,
      "min_height": null,
      "min_width": null,
      "object_fit": null,
      "object_position": null,
      "order": null,
      "overflow": null,
      "overflow_x": null,
      "overflow_y": null,
      "padding": null,
      "right": null,
      "top": null,
      "visibility": null,
      "width": null
     }
    },
    "f0c0d5bfce2447eb9c3fac327ba0daa0": {
     "model_module": "@jupyter-widgets/base",
     "model_name": "LayoutModel",
     "state": {
      "_model_module": "@jupyter-widgets/base",
      "_model_module_version": "1.2.0",
      "_model_name": "LayoutModel",
      "_view_count": null,
      "_view_module": "@jupyter-widgets/base",
      "_view_module_version": "1.2.0",
      "_view_name": "LayoutView",
      "align_content": null,
      "align_items": null,
      "align_self": null,
      "border": null,
      "bottom": null,
      "display": null,
      "flex": null,
      "flex_flow": null,
      "grid_area": null,
      "grid_auto_columns": null,
      "grid_auto_flow": null,
      "grid_auto_rows": null,
      "grid_column": null,
      "grid_gap": null,
      "grid_row": null,
      "grid_template_areas": null,
      "grid_template_columns": null,
      "grid_template_rows": null,
      "height": null,
      "justify_content": null,
      "justify_items": null,
      "left": null,
      "margin": null,
      "max_height": null,
      "max_width": null,
      "min_height": null,
      "min_width": null,
      "object_fit": null,
      "object_position": null,
      "order": null,
      "overflow": null,
      "overflow_x": null,
      "overflow_y": null,
      "padding": null,
      "right": null,
      "top": null,
      "visibility": null,
      "width": null
     }
    }
   }
  }
 },
 "nbformat": 4,
 "nbformat_minor": 4
}
